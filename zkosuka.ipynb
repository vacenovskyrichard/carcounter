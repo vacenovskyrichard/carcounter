{
  "nbformat": 4,
  "nbformat_minor": 0,
  "metadata": {
    "colab": {
      "name": "Untitled1.ipynb",
      "provenance": [],
      "authorship_tag": "ABX9TyOgFTIm/tLD8db8iBT8HHNb",
      "include_colab_link": true
    },
    "kernelspec": {
      "name": "python3",
      "display_name": "Python 3"
    },
    "accelerator": "GPU"
  },
  "cells": [
    {
      "cell_type": "markdown",
      "metadata": {
        "id": "view-in-github",
        "colab_type": "text"
      },
      "source": [
        "<a href=\"https://colab.research.google.com/github/vacenovskyrichard/carcounter/blob/master/zkosuka.ipynb\" target=\"_parent\"><img src=\"https://colab.research.google.com/assets/colab-badge.svg\" alt=\"Open In Colab\"/></a>"
      ]
    },
    {
      "cell_type": "code",
      "metadata": {
        "colab": {
          "base_uri": "https://localhost:8080/"
        },
        "id": "-35vPkSRZGdq",
        "outputId": "c7665d01-e38f-4619-b61f-1bbef2aa57ec"
      },
      "source": [
        "import os\r\n",
        "!git clone https://github.com/ahmetozlu/vehicle_counting_tensorflow.git"
      ],
      "execution_count": null,
      "outputs": [
        {
          "output_type": "stream",
          "text": [
            "Cloning into 'vehicle_counting_tensorflow'...\n",
            "remote: Enumerating objects: 49, done.\u001b[K\n",
            "remote: Counting objects: 100% (49/49), done.\u001b[K\n",
            "remote: Compressing objects: 100% (39/39), done.\u001b[K\n",
            "remote: Total 1461 (delta 18), reused 32 (delta 10), pack-reused 1412\u001b[K\n",
            "Receiving objects: 100% (1461/1461), 243.66 MiB | 10.37 MiB/s, done.\n",
            "Resolving deltas: 100% (716/716), done.\n"
          ],
          "name": "stdout"
        }
      ]
    }
  ]
}